{
 "cells": [
  {
   "cell_type": "markdown",
   "metadata": {},
   "source": [
    "## Análise Estatística Descritiva e Inferencial da Sincronização de Tempo em Redes Locais Usando LinuxPTP\n",
    "\n",
    "A sincronização precisa de tempo em redes de computadores é fundamental para diversas aplicações, incluindo redes industriais, telecomunicações e data centers. Neste trabalho, utilizamos o [LinuxPTP](https://linuxptp.sourceforge.net/), uma implementação do [**Precision Time Protocol (PTP)**](https://endruntechnologies.com/pdf/PTP-1588.pdf), para simular e analisar a sincronização de tempo entre diferentes nós de uma rede. O LinuxPTP oferece uma maneira robusta de sincronizar relógios em diferentes dispositivos numa LAN, permitindo atingir precisões na ordem de microssegundos ou até nanosegundos, dependendo das condições da rede e do hardware disponível.\n",
    "\n",
    "A análise deste trabalho é feita utilizando **Estatística Descritiva e Inferencial**, com a aplicação de **testes de hipóteses** para avaliar o comportamento da sincronização em diferentes cenários. Para isso, configuramos nós em uma rede local que atuam como mestres e escravos PTP, e coletamos dados de _**Time offset**_ durante a sincronização.\n",
    "\n",
    "Os principais objetivos deste trabalho incluem:\n",
    "\n",
    "- **Testar Timestamping em Software vs. Hardware**: Comparar a eficácia da sincronização utilizando **timestamping em software** e **timestamping em hardware**.\n",
    "\n",
    "- **Avaliar a Qualidade da Sincronização**: Examinar se o **offset** entre o mestre e o escravo se mantém próximo de zero em diferentes condições de rede.\n",
    "\n",
    "- **Comparar Topologias de Sincronização**: Verificar a eficácia de diferentes configurações, como topologias **mestre-escravo** simples e aquelas que envolvem **_Transparent Clocks_** ou **_Boundary Clocks_**.\n"
   ]
  },
  {
   "cell_type": "markdown",
   "metadata": {},
   "source": [
    "\n",
    "## Ambiente de testes\n",
    "\n",
    "Para este estudo, utilizamos 3 computadores cuja as especificações são descritas na tabela abaixo:\n",
    "\n",
    "| Especificação      | PC 1 (jv3301)                | PC 2 (Vostro-3470)               | PC 3 (lasse100)                      |\n",
    "|--------------------|---------------------------------|--------------------------------------------|-----------------------------------------|\n",
    "| OS                 | Ubuntu 22.04.5 LTS x86_64       | Ubuntu 22.04.4 LTS x86_64                  | Ubuntu 18.04.4 LTS x86_64               |\n",
    "| Kernel             | 6.8.0-45-generic                | 6.5.0-35-generic                           | 4.15.0-213-generic                      |\n",
    "| NIC                 | Intel X550-T2 PCI-E X4         | Intel X550-T2 PCI-E X4                     | Intel X550-T2 PCI-E X4      |\n",
    "| CPU                | Intel i5-7600 (4) @ 4.10GHz     | Intel i5-9400 (6) @ 4.10GHz                | Intel i7-5930K (12) @ 3.700GHz          |\n",
    "| GPU                | Intel HD Graphics 630           | Intel HD Graphics 630  | AMD Radeon HD 7770/8760                 |\n",
    "| Memory             | 8GB                 | 16GB                           | 64GB                        |\n",
    "\n",
    "\n",
    "\n",
    "Os dados são coletados diretamente dos logs do **ptp4l**, a ferramenta do LinuxPTP que executa a sincronização. \n"
   ]
  },
  {
   "cell_type": "markdown",
   "metadata": {},
   "source": [
    "## Linux PTP\n",
    "\n",
    "O [LinuxPTP](https://linuxptp.sourceforge.net/) é uma implementação do Precision Time Protocol (PTP), conforme definido pelo padrão [**IEEE 1588**](https://endruntechnologies.com/pdf/PTP-1588.pdf). O PTP é um protocolo de rede utilizado para sincronizar relógios em sistemas de computadores distribuídos através de uma rede local (LAN).\n",
    "\n",
    "Componentes Principais:\n",
    "\n",
    "- ptp4l: O daemon principal do LinuxPTP, responsável por implementar o protocolo PTP e gerenciar a sincronização de tempo entre os dispositivos.\n",
    "- phc2sys: Uma ferramenta auxiliar que sincroniza o relógio de hardware do PTP (PHC) com o relógio do sistema, garantindo que ambos permaneçam alinhados."
   ]
  },
  {
   "cell_type": "markdown",
   "metadata": {},
   "source": [
    "<div style=\"text-align: center;\">\n",
    "    <img src=\"https://raw.githubusercontent.com/jvictorferreira3301/LPTP_Analyzer/refs/heads/main/assets/HS.png\" width=\"840\" height=\"480\" allow=\"autoplay\"></iframe>\n",
    "</div>"
   ]
  },
  {
   "cell_type": "markdown",
   "metadata": {},
   "source": [
    "## $I$. Software Timestamping Vs. Hardware Timestamping"
   ]
  },
  {
   "cell_type": "markdown",
   "metadata": {},
   "source": [
    "<div style=\"text-align: center;\">\n",
    "    <img src=\"https://raw.githubusercontent.com/jvictorferreira3301/LPTP_Analyzer/refs/heads/main/assets/ptp-hardware-software-based-timestamp.png\" width=\"640\" height=\"480\" allow=\"autoplay\"></iframe>\n",
    "</div>"
   ]
  },
  {
   "cell_type": "code",
   "execution_count": 5,
   "metadata": {},
   "outputs": [],
   "source": [
    "import pandas as pd\n",
    "import matplotlib.pyplot as plt\n",
    "from log_processing import process_log_file\n",
    "from plotting import plot_graphs\n",
    "import numpy as np\n",
    "from scipy.stats import ttest_ind\n",
    "\n",
    "# Padroes de time e freq\n",
    "offset_pattern = r'ptp4l\\[(\\d+\\.\\d+)\\]: master offset\\s+(-?\\d+)'\n",
    "freq_pattern = r'ptp4l\\[(\\d+\\.\\d+)\\]: master offset\\s+-?\\d+ s2 freq\\s+(-?\\d+)'\n",
    "\n",
    "log_files = ['logs/Soft.txt', 'logs/Hard.txt']\n",
    "\n",
    "dataframes = {}\n",
    "\n",
    "for log_file in log_files:\n",
    "    dataframes[log_file] = process_log_file(log_file, offset_pattern, freq_pattern)"
   ]
  },
  {
   "cell_type": "markdown",
   "metadata": {},
   "source": [
    "### Dados do sincronismo usando software timestamping"
   ]
  },
  {
   "cell_type": "code",
   "execution_count": 2,
   "metadata": {},
   "outputs": [
    {
     "data": {
      "text/html": [
       "<div>\n",
       "<style scoped>\n",
       "    .dataframe tbody tr th:only-of-type {\n",
       "        vertical-align: middle;\n",
       "    }\n",
       "\n",
       "    .dataframe tbody tr th {\n",
       "        vertical-align: top;\n",
       "    }\n",
       "\n",
       "    .dataframe thead th {\n",
       "        text-align: right;\n",
       "    }\n",
       "</style>\n",
       "<table border=\"1\" class=\"dataframe\">\n",
       "  <thead>\n",
       "    <tr style=\"text-align: right;\">\n",
       "      <th></th>\n",
       "      <th>elapsed_time</th>\n",
       "      <th>offset</th>\n",
       "      <th>frequency</th>\n",
       "      <th>seconds</th>\n",
       "    </tr>\n",
       "  </thead>\n",
       "  <tbody>\n",
       "    <tr>\n",
       "      <th>count</th>\n",
       "      <td>312.000000</td>\n",
       "      <td>312.000000</td>\n",
       "      <td>291.000000</td>\n",
       "      <td>312.000000</td>\n",
       "    </tr>\n",
       "    <tr>\n",
       "      <th>mean</th>\n",
       "      <td>14419.287776</td>\n",
       "      <td>-395.070513</td>\n",
       "      <td>-9318.202749</td>\n",
       "      <td>155.981776</td>\n",
       "    </tr>\n",
       "    <tr>\n",
       "      <th>std</th>\n",
       "      <td>90.652489</td>\n",
       "      <td>73829.599313</td>\n",
       "      <td>2086.863093</td>\n",
       "      <td>90.652489</td>\n",
       "    </tr>\n",
       "    <tr>\n",
       "      <th>min</th>\n",
       "      <td>14263.306000</td>\n",
       "      <td>-395149.000000</td>\n",
       "      <td>-23638.000000</td>\n",
       "      <td>0.000000</td>\n",
       "    </tr>\n",
       "    <tr>\n",
       "      <th>25%</th>\n",
       "      <td>14341.065000</td>\n",
       "      <td>3997.250000</td>\n",
       "      <td>-9487.500000</td>\n",
       "      <td>77.759000</td>\n",
       "    </tr>\n",
       "    <tr>\n",
       "      <th>50%</th>\n",
       "      <td>14418.823000</td>\n",
       "      <td>9868.000000</td>\n",
       "      <td>-9189.000000</td>\n",
       "      <td>155.517000</td>\n",
       "    </tr>\n",
       "    <tr>\n",
       "      <th>75%</th>\n",
       "      <td>14497.581250</td>\n",
       "      <td>20932.250000</td>\n",
       "      <td>-8827.000000</td>\n",
       "      <td>234.275250</td>\n",
       "    </tr>\n",
       "    <tr>\n",
       "      <th>max</th>\n",
       "      <td>14575.340000</td>\n",
       "      <td>171637.000000</td>\n",
       "      <td>-917.000000</td>\n",
       "      <td>312.034000</td>\n",
       "    </tr>\n",
       "  </tbody>\n",
       "</table>\n",
       "</div>"
      ],
      "text/plain": [
       "       elapsed_time         offset     frequency     seconds\n",
       "count    312.000000     312.000000    291.000000  312.000000\n",
       "mean   14419.287776    -395.070513  -9318.202749  155.981776\n",
       "std       90.652489   73829.599313   2086.863093   90.652489\n",
       "min    14263.306000 -395149.000000 -23638.000000    0.000000\n",
       "25%    14341.065000    3997.250000  -9487.500000   77.759000\n",
       "50%    14418.823000    9868.000000  -9189.000000  155.517000\n",
       "75%    14497.581250   20932.250000  -8827.000000  234.275250\n",
       "max    14575.340000  171637.000000   -917.000000  312.034000"
      ]
     },
     "execution_count": 2,
     "metadata": {},
     "output_type": "execute_result"
    }
   ],
   "source": [
    "df_s_log = dataframes['logs/Soft.txt']\n",
    "df_s_log.describe()"
   ]
  },
  {
   "cell_type": "code",
   "execution_count": 6,
   "metadata": {},
   "outputs": [
    {
     "data": {
      "text/html": [
       "<div>\n",
       "<style scoped>\n",
       "    .dataframe tbody tr th:only-of-type {\n",
       "        vertical-align: middle;\n",
       "    }\n",
       "\n",
       "    .dataframe tbody tr th {\n",
       "        vertical-align: top;\n",
       "    }\n",
       "\n",
       "    .dataframe thead th {\n",
       "        text-align: right;\n",
       "    }\n",
       "</style>\n",
       "<table border=\"1\" class=\"dataframe\">\n",
       "  <thead>\n",
       "    <tr style=\"text-align: right;\">\n",
       "      <th></th>\n",
       "      <th>elapsed_time</th>\n",
       "      <th>offset</th>\n",
       "      <th>frequency</th>\n",
       "      <th>seconds</th>\n",
       "    </tr>\n",
       "  </thead>\n",
       "  <tbody>\n",
       "    <tr>\n",
       "      <th>count</th>\n",
       "      <td>284.000000</td>\n",
       "      <td>284.000000</td>\n",
       "      <td>284.000000</td>\n",
       "      <td>284.000000</td>\n",
       "    </tr>\n",
       "    <tr>\n",
       "      <th>mean</th>\n",
       "      <td>14431.729292</td>\n",
       "      <td>13058.426056</td>\n",
       "      <td>-9327.161972</td>\n",
       "      <td>168.423292</td>\n",
       "    </tr>\n",
       "    <tr>\n",
       "      <th>std</th>\n",
       "      <td>83.441123</td>\n",
       "      <td>19716.930080</td>\n",
       "      <td>1654.016549</td>\n",
       "      <td>83.441123</td>\n",
       "    </tr>\n",
       "    <tr>\n",
       "      <th>min</th>\n",
       "      <td>14280.308000</td>\n",
       "      <td>-75648.000000</td>\n",
       "      <td>-20740.000000</td>\n",
       "      <td>17.002000</td>\n",
       "    </tr>\n",
       "    <tr>\n",
       "      <th>25%</th>\n",
       "      <td>14360.067000</td>\n",
       "      <td>4692.500000</td>\n",
       "      <td>-9485.750000</td>\n",
       "      <td>96.761000</td>\n",
       "    </tr>\n",
       "    <tr>\n",
       "      <th>50%</th>\n",
       "      <td>14431.824000</td>\n",
       "      <td>10241.000000</td>\n",
       "      <td>-9194.500000</td>\n",
       "      <td>168.518000</td>\n",
       "    </tr>\n",
       "    <tr>\n",
       "      <th>75%</th>\n",
       "      <td>14504.582000</td>\n",
       "      <td>20623.500000</td>\n",
       "      <td>-8833.500000</td>\n",
       "      <td>241.276000</td>\n",
       "    </tr>\n",
       "    <tr>\n",
       "      <th>max</th>\n",
       "      <td>14575.340000</td>\n",
       "      <td>76842.000000</td>\n",
       "      <td>-5619.000000</td>\n",
       "      <td>312.034000</td>\n",
       "    </tr>\n",
       "  </tbody>\n",
       "</table>\n",
       "</div>"
      ],
      "text/plain": [
       "       elapsed_time        offset     frequency     seconds\n",
       "count    284.000000    284.000000    284.000000  284.000000\n",
       "mean   14431.729292  13058.426056  -9327.161972  168.423292\n",
       "std       83.441123  19716.930080   1654.016549   83.441123\n",
       "min    14280.308000 -75648.000000 -20740.000000   17.002000\n",
       "25%    14360.067000   4692.500000  -9485.750000   96.761000\n",
       "50%    14431.824000  10241.000000  -9194.500000  168.518000\n",
       "75%    14504.582000  20623.500000  -8833.500000  241.276000\n",
       "max    14575.340000  76842.000000  -5619.000000  312.034000"
      ]
     },
     "execution_count": 6,
     "metadata": {},
     "output_type": "execute_result"
    }
   ],
   "source": [
    "# Selecionar o DataFrame\n",
    "df_s_log = dataframes['logs/Soft.txt']\n",
    "\n",
    "df_s_log = df_s_log[(df_s_log['offset'] >= -80000) & (df_s_log['offset'] <= 80000)]\n",
    "\n",
    "dataframes['logs/Soft.txt'] = df_s_log\n",
    "\n",
    "df_s_log.describe()"
   ]
  },
  {
   "cell_type": "markdown",
   "metadata": {},
   "source": [
    "### Dados do sincronismo usando hardware timestamping"
   ]
  },
  {
   "cell_type": "code",
   "execution_count": 17,
   "metadata": {},
   "outputs": [
    {
     "data": {
      "text/html": [
       "<div>\n",
       "<style scoped>\n",
       "    .dataframe tbody tr th:only-of-type {\n",
       "        vertical-align: middle;\n",
       "    }\n",
       "\n",
       "    .dataframe tbody tr th {\n",
       "        vertical-align: top;\n",
       "    }\n",
       "\n",
       "    .dataframe thead th {\n",
       "        text-align: right;\n",
       "    }\n",
       "</style>\n",
       "<table border=\"1\" class=\"dataframe\">\n",
       "  <thead>\n",
       "    <tr style=\"text-align: right;\">\n",
       "      <th></th>\n",
       "      <th>seconds</th>\n",
       "      <th>offset</th>\n",
       "    </tr>\n",
       "  </thead>\n",
       "  <tbody>\n",
       "    <tr>\n",
       "      <th>count</th>\n",
       "      <td>3.0</td>\n",
       "      <td>3.0</td>\n",
       "    </tr>\n",
       "    <tr>\n",
       "      <th>mean</th>\n",
       "      <td>1.0</td>\n",
       "      <td>25.0</td>\n",
       "    </tr>\n",
       "    <tr>\n",
       "      <th>std</th>\n",
       "      <td>1.0</td>\n",
       "      <td>10.0</td>\n",
       "    </tr>\n",
       "    <tr>\n",
       "      <th>min</th>\n",
       "      <td>0.0</td>\n",
       "      <td>15.0</td>\n",
       "    </tr>\n",
       "    <tr>\n",
       "      <th>25%</th>\n",
       "      <td>0.5</td>\n",
       "      <td>20.0</td>\n",
       "    </tr>\n",
       "    <tr>\n",
       "      <th>50%</th>\n",
       "      <td>1.0</td>\n",
       "      <td>25.0</td>\n",
       "    </tr>\n",
       "    <tr>\n",
       "      <th>75%</th>\n",
       "      <td>1.5</td>\n",
       "      <td>30.0</td>\n",
       "    </tr>\n",
       "    <tr>\n",
       "      <th>max</th>\n",
       "      <td>2.0</td>\n",
       "      <td>35.0</td>\n",
       "    </tr>\n",
       "  </tbody>\n",
       "</table>\n",
       "</div>"
      ],
      "text/plain": [
       "       seconds  offset\n",
       "count      3.0     3.0\n",
       "mean       1.0    25.0\n",
       "std        1.0    10.0\n",
       "min        0.0    15.0\n",
       "25%        0.5    20.0\n",
       "50%        1.0    25.0\n",
       "75%        1.5    30.0\n",
       "max        2.0    35.0"
      ]
     },
     "execution_count": 17,
     "metadata": {},
     "output_type": "execute_result"
    }
   ],
   "source": [
    "df_h_log = dataframes['logs/Hard.txt']\n",
    "df_h_log.describe()"
   ]
  },
  {
   "cell_type": "code",
   "execution_count": 8,
   "metadata": {},
   "outputs": [
    {
     "data": {
      "text/html": [
       "<div>\n",
       "<style scoped>\n",
       "    .dataframe tbody tr th:only-of-type {\n",
       "        vertical-align: middle;\n",
       "    }\n",
       "\n",
       "    .dataframe tbody tr th {\n",
       "        vertical-align: top;\n",
       "    }\n",
       "\n",
       "    .dataframe thead th {\n",
       "        text-align: right;\n",
       "    }\n",
       "</style>\n",
       "<table border=\"1\" class=\"dataframe\">\n",
       "  <thead>\n",
       "    <tr style=\"text-align: right;\">\n",
       "      <th></th>\n",
       "      <th>elapsed_time</th>\n",
       "      <th>offset</th>\n",
       "      <th>frequency</th>\n",
       "      <th>seconds</th>\n",
       "    </tr>\n",
       "  </thead>\n",
       "  <tbody>\n",
       "    <tr>\n",
       "      <th>count</th>\n",
       "      <td>311.000000</td>\n",
       "      <td>311.000000</td>\n",
       "      <td>147.000000</td>\n",
       "      <td>311.000000</td>\n",
       "    </tr>\n",
       "    <tr>\n",
       "      <th>mean</th>\n",
       "      <td>1150.014309</td>\n",
       "      <td>0.090032</td>\n",
       "      <td>-4.088435</td>\n",
       "      <td>157.014309</td>\n",
       "    </tr>\n",
       "    <tr>\n",
       "      <th>std</th>\n",
       "      <td>89.931436</td>\n",
       "      <td>8.032892</td>\n",
       "      <td>4.453604</td>\n",
       "      <td>89.931436</td>\n",
       "    </tr>\n",
       "    <tr>\n",
       "      <th>min</th>\n",
       "      <td>995.000000</td>\n",
       "      <td>-18.000000</td>\n",
       "      <td>-16.000000</td>\n",
       "      <td>2.000000</td>\n",
       "    </tr>\n",
       "    <tr>\n",
       "      <th>25%</th>\n",
       "      <td>1072.506000</td>\n",
       "      <td>-3.000000</td>\n",
       "      <td>-8.000000</td>\n",
       "      <td>79.506000</td>\n",
       "    </tr>\n",
       "    <tr>\n",
       "      <th>50%</th>\n",
       "      <td>1150.014000</td>\n",
       "      <td>-1.000000</td>\n",
       "      <td>-2.000000</td>\n",
       "      <td>157.014000</td>\n",
       "    </tr>\n",
       "    <tr>\n",
       "      <th>75%</th>\n",
       "      <td>1227.522000</td>\n",
       "      <td>4.000000</td>\n",
       "      <td>-1.000000</td>\n",
       "      <td>234.522000</td>\n",
       "    </tr>\n",
       "    <tr>\n",
       "      <th>max</th>\n",
       "      <td>1305.031000</td>\n",
       "      <td>21.000000</td>\n",
       "      <td>0.000000</td>\n",
       "      <td>312.031000</td>\n",
       "    </tr>\n",
       "  </tbody>\n",
       "</table>\n",
       "</div>"
      ],
      "text/plain": [
       "       elapsed_time      offset   frequency     seconds\n",
       "count    311.000000  311.000000  147.000000  311.000000\n",
       "mean    1150.014309    0.090032   -4.088435  157.014309\n",
       "std       89.931436    8.032892    4.453604   89.931436\n",
       "min      995.000000  -18.000000  -16.000000    2.000000\n",
       "25%     1072.506000   -3.000000   -8.000000   79.506000\n",
       "50%     1150.014000   -1.000000   -2.000000  157.014000\n",
       "75%     1227.522000    4.000000   -1.000000  234.522000\n",
       "max     1305.031000   21.000000    0.000000  312.031000"
      ]
     },
     "execution_count": 8,
     "metadata": {},
     "output_type": "execute_result"
    }
   ],
   "source": [
    "# Selecionar o DataFrame\n",
    "df_h_log = dataframes['logs/Hard.txt']\n",
    "\n",
    "# Remover os primeiros 2 registros\n",
    "df_h_log = df_h_log.iloc[2:]\n",
    "dataframes['logs/Hard.txt'] = df_h_log\n",
    "\n",
    "df_h_log.describe()"
   ]
  },
  {
   "cell_type": "code",
   "execution_count": 12,
   "metadata": {},
   "outputs": [
    {
     "data": {
      "image/png": "[encoded data removed]",
      "text/plain": [
       "<Figure size 640x480 with 1 Axes>"
      ]
     },
     "metadata": {},
     "output_type": "display_data"
    },
    {
     "data": {
      "image/png": "[encoded data removed]",
      "text/plain": [
       "<Figure size 640x480 with 1 Axes>"
      ]
     },
     "metadata": {},
     "output_type": "display_data"
    }
   ],
   "source": [
    "plot_graphs(log_files, dataframes, 'Offset (ns)', 'offset_results', 'green')"
   ]
  },
  {
   "cell_type": "code",
   "execution_count": 13,
   "metadata": {},
   "outputs": [
    {
     "data": {
      "image/png": "[encoded data removed]",
      "text/plain": [
       "<Figure size 1000x600 with 1 Axes>"
      ]
     },
     "metadata": {},
     "output_type": "display_data"
    }
   ],
   "source": [
    "plt.figure(figsize=(10, 6))\n",
    "plt.hist(df_h_log['offset'], bins=50, edgecolor='black', color='green')\n",
    "plt.title('Histograma dos Offsets (df_h_log)')\n",
    "plt.xlabel('Offset (ns)')\n",
    "plt.ylabel('Frequência')\n",
    "plt.grid(True)\n",
    "plt.show()"
   ]
  },
  {
   "cell_type": "code",
   "execution_count": 14,
   "metadata": {},
   "outputs": [
    {
     "name": "stdout",
     "output_type": "stream",
     "text": [
      "T-statistic: -11.161117511190199\n",
      "P-value: 3.263967118628139e-24\n",
      "Rejeitamos a hipótese nula: Há uma diferença significativa na eficácia da sincronização entre hardware e software timestamping.\n"
     ]
    }
   ],
   "source": [
    "# Extrair as colunas de interesse\n",
    "offsets_hardware = df_h_log['offset']\n",
    "offsets_software = df_s_log['offset']\n",
    "\n",
    "# Executar o teste t de Student\n",
    "t_stat, p_value = ttest_ind(offsets_hardware, offsets_software, equal_var=False)\n",
    "\n",
    "# Exibir os resultados\n",
    "print(f\"T-statistic: {t_stat}\")\n",
    "print(f\"P-value: {p_value}\")\n",
    "\n",
    "# Interpretar o resultado\n",
    "alpha = 0.05\n",
    "if p_value < alpha:\n",
    "    print(\"Rejeitamos a hipótese nula: Há uma diferença significativa na eficácia da sincronização entre hardware e software timestamping.\")\n",
    "else:\n",
    "    print(\"Falhamos em rejeitar a hipótese nula: Não há evidência suficiente para afirmar que há uma diferença significativa na eficácia da sincronização entre hardware e software timestamping.\")"
   ]
  }
 ],
 "metadata": {
  "kernelspec": {
   "display_name": "Python 3",
   "language": "python",
   "name": "python3"
  },
  "language_info": {
   "codemirror_mode": {
    "name": "ipython",
    "version": 3
   },
   "file_extension": ".py",
   "mimetype": "text/x-python",
   "name": "python",
   "nbconvert_exporter": "python",
   "pygments_lexer": "ipython3",
   "version": "3.12.7"
  }
 },
 "nbformat": 4,
 "nbformat_minor": 2
}
